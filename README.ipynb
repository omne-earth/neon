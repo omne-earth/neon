{
 "cells": [
  {
   "cell_type": "markdown",
   "metadata": {},
   "source": [
    "# NEON - N-Body Simulation of Near Earth Objects"
   ]
  },
  {
   "cell_type": "markdown",
   "metadata": {},
   "source": [
    "## Horizons Documentation\n",
    "For neon, we implement the file api due to its robustness. Other access methods, like a query based api, cli, telnet, and simply the public web app are available. Refer to the JPL Horizons documents on how to author the request file and the response structures.\n",
    "\n",
    "[File API](https://ssd-api.jpl.nasa.gov/doc/horizons_file.html)\n",
    "\n",
    "[Manual](https://ssd.jpl.nasa.gov/horizons/manual.html)\n",
    "\n",
    "[Other Access Methods](https://ssd.jpl.nasa.gov/horizons/)"
   ]
  },
  {
   "cell_type": "markdown",
   "metadata": {},
   "source": [
    "## Pre-requisites"
   ]
  },
  {
   "cell_type": "markdown",
   "metadata": {},
   "source": [
    "\n",
    "1. Clone this repository to your workspace and create a python virtual environment.\n",
    "\n",
    "2. The folder can now be opened in an IDE, such as VSCode.\n",
    "\n",
    "3. Select the virtual environment *.venv* created above as the interpreter.\n",
    "\n",
    "4. Select the *Bash* Jupyter kernel to render notebooks.\n",
    "\n",
    "Bash script:\n",
    "\n",
    "```bash\n",
    "mkdir -p workspace\n",
    "cd workspace\n",
    "git clone git@github.com:action-project/neon.git\n",
    "cd neon\n",
    "python -m venv .venv\n",
    "```"
   ]
  },
  {
   "cell_type": "markdown",
   "metadata": {},
   "source": [
    "## Setup"
   ]
  },
  {
   "cell_type": "markdown",
   "metadata": {},
   "source": [
    "1. From within the *neon* dir, activate the virtual environment and install requirements"
   ]
  },
  {
   "cell_type": "code",
   "execution_count": null,
   "metadata": {
    "vscode": {
     "languageId": "shellscript"
    }
   },
   "outputs": [],
   "source": [
    "source .venv/bin/activate\n",
    "pip install -r requirements.txt\n",
    "python -m bash_kernel.install"
   ]
  },
  {
   "cell_type": "markdown",
   "metadata": {},
   "source": [
    "2. Run the example script."
   ]
  },
  {
   "cell_type": "code",
   "execution_count": null,
   "metadata": {
    "vscode": {
     "languageId": "shellscript"
    }
   },
   "outputs": [],
   "source": [
    "python neon.py example"
   ]
  },
  {
   "cell_type": "markdown",
   "metadata": {},
   "source": [
    "4. The output of the script should be a *.result* file in the *results* directory. Please investigate this file structure. "
   ]
  },
  {
   "cell_type": "markdown",
   "metadata": {},
   "source": [
    "**TODO** We refer to the JPL Horizons manual to build upon the requests towards a data-provider we integrate to the simulation"
   ]
  }
 ],
 "metadata": {
  "kernelspec": {
   "display_name": "Bash",
   "language": "bash",
   "name": "bash"
  },
  "language_info": {
   "codemirror_mode": "shell",
   "file_extension": ".sh",
   "mimetype": "text/x-sh",
   "name": "bash"
  }
 },
 "nbformat": 4,
 "nbformat_minor": 2
}
