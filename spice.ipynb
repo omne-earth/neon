{
 "cells": [
  {
   "cell_type": "markdown",
   "metadata": {},
   "source": [
    "## Toolkit\n",
    "\n",
    "We use *SPICE* (**An Observation Geometry System\n",
    "for Space Science Missions**) to create SPICE files from the results of our simulation. SPICE allows representation of space geometry and events in 3D. A brief introduction from JPL provides a concise overview of the SPICE toolkit from JPL.\n",
    "\n",
    "### SPICE\n",
    "\n",
    "[Introduction](https://naif.jpl.nasa.gov/naif/index.html)\n",
    "\n",
    "[General Tutorial](https://naif.jpl.nasa.gov/naif/tutorials.html)\n",
    "\n",
    "[Python Lessons](https://naif.jpl.nasa.gov/pub/naif/toolkit_docs/Lessons/spice_lessons_py_unix.zip)\n",
    "\n",
    "### Intended Use\n",
    "The SPICE toolkit can be used to load *SPK* files as upstream source which contains data in the binary format. The same toolkit can be used to package raw data into *SPK* files for downstream consumption. *NEON* predominantly to use the toolkit for creating the *SPK* files\n",
    "\n",
    "*NEON* will:\n",
    "1. Collect raw data from JPL *Horizons* system\n",
    "2. Include **ALL** NEO objects currently known and available\n",
    "3. Train an N-body extrapolation model from retrospective data using iterative simulations\n",
    "4. Augment prospective data using the generated model\n",
    "5. Package the data into *SPK* payloads using the NAIF *SPICE* toolkit\n",
    "6. Allow a consistent API for downstream consumption\n",
    "\n",
    "\n",
    "\n"
   ]
  }
 ],
 "metadata": {
  "language_info": {
   "name": "python"
  }
 },
 "nbformat": 4,
 "nbformat_minor": 2
}
