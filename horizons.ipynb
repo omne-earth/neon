{
 "cells": [
  {
   "cell_type": "markdown",
   "metadata": {},
   "source": [
    "## Pre-requisites"
   ]
  },
  {
   "cell_type": "markdown",
   "metadata": {},
   "source": [
    "\n",
    "Github credentials are to be requested with *shree@actionproject.net*\n",
    "\n",
    "```bash\n",
    "\n",
    "# create workspace and checkout code\n",
    "mkdir -p workspace\n",
    "cd workspace\n",
    "git clone git@github.com:action-project/neon.git\n",
    "cd neon\n",
    "\n",
    "# create an activate a python virtual environment\n",
    "python -m venv .venv\n",
    "source .venv/bin/activate\n",
    "\n",
    "# install python requirements, including jupyter kernel\n",
    "pip install -r requirements.txt\n",
    "python -m bash_kernel.install\n",
    "```\n",
    "\n",
    "This script:\n",
    "\n",
    "1. Clones the codebase to your workspace\n",
    "\n",
    "2. Creates and activates a python virtual environment\n",
    "\n",
    "3. Installs python requirements in an isolated virtual environment\n",
    "\n",
    "4. Installs bash kernel for jupyter notebook which enables inline execution of jupyter code blocks \n",
    "\n",
    "On your *VSCode* workspace\n",
    "\n",
    "1. Select the virtual environment *.venv* created above as the interpreter\n",
    "\n",
    "*(search bar) > search for '> python interpreter' > Python: Select Interpreter > Pick Python 3.1x.x .venv/bin/python*\n",
    "\n",
    "2. Select the *Bash* Jupyter kernel located in the *.venv* virtual environment\n",
    "\n",
    "*(top right corner) > Bash > Select Another Kernel > Jupyter Kernel > Bash .venv/bin/python*\n",
    "\n",
    "Always make sure to activate the python environment before executing NEON\n",
    "```bash\n",
    "source .venv/bin/activate\n",
    "```"
   ]
  },
  {
   "cell_type": "markdown",
   "metadata": {},
   "source": [
    "### JPL Horizons\n",
    "\n",
    "[File API](https://ssd-api.jpl.nasa.gov/doc/horizons_file.html)\n",
    "\n",
    "[Manual](https://ssd.jpl.nasa.gov/horizons/manual.html)\n",
    "\n",
    "[Other Access Methods](https://ssd.jpl.nasa.gov/horizons/)\n",
    "\n",
    "## Intended Use\n",
    "\n",
    "*NEON* intends to implement parallel data streams, say per NEO object, to collect retrospective as well as realtime data using JPL *Horizons* API"
   ]
  },
  {
   "cell_type": "markdown",
   "metadata": {},
   "source": [
    "## Getting Data from JPL Horizons\n",
    "\n",
    "For *NEON*, we implement the file api due to its robustness.\n",
    "\n",
    "Other access methods, like a query based api, cli, telnet, and simply the public web app are available."
   ]
  },
  {
   "cell_type": "code",
   "execution_count": null,
   "metadata": {
    "vscode": {
     "languageId": "shellscript"
    }
   },
   "outputs": [],
   "source": [
    "# click the play button on the left to execute\n",
    "python neon.py 2024_PT5"
   ]
  },
  {
   "cell_type": "markdown",
   "metadata": {},
   "source": [
    "The output of the script should be a *.result* file in the *results* directory. \n",
    "\n",
    "> **Note**: At the time of this writing, SPK data is unavailable for the example query using the [web app](https://ssd.jpl.nasa.gov/horizons/app.html#/)\n",
    "\n",
    "Refer to the JPL Horizons documentation (above) on how to author the request file, as well as how to interpret the response returned."
   ]
  }
 ],
 "metadata": {
  "kernelspec": {
   "display_name": "Bash",
   "language": "bash",
   "name": "bash"
  },
  "language_info": {
   "codemirror_mode": "shell",
   "file_extension": ".sh",
   "mimetype": "text/x-sh",
   "name": "bash"
  }
 },
 "nbformat": 4,
 "nbformat_minor": 2
}
